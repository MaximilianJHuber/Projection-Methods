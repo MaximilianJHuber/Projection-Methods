{
 "cells": [
  {
   "cell_type": "markdown",
   "metadata": {},
   "source": [
    "We want to solve:\n",
    "$$0=h(k)-(u')^{-1}\\left( \\beta u'\\left( h\\left((f(k) +(1- \\delta)k- h(k)\\right) \\right) f'\\left(f(k) +(1- \\delta)k - h(k) \\right) \\right)$$\n",
    "where $c=h(k)$ using projection on Chebychev polynomials."
   ]
  },
  {
   "cell_type": "code",
   "execution_count": 20,
   "metadata": {
    "collapsed": false
   },
   "outputs": [],
   "source": [
    "using Parameters\n",
    "using ChebyshevApprox"
   ]
  },
  {
   "cell_type": "code",
   "execution_count": 2,
   "metadata": {
    "collapsed": false
   },
   "outputs": [
    {
     "data": {
      "text/plain": [
       "u_crra_prime_inv (generic function with 1 method)"
      ]
     },
     "execution_count": 2,
     "metadata": {},
     "output_type": "execute_result"
    }
   ],
   "source": [
    "@with_kw immutable GrowthModel\n",
    "    β::Float64                           # discount factor\n",
    "    δ::Float64                           # depreciation\n",
    "    α::Float64                           # capital share\n",
    "    A::Float64                           # productivity\n",
    "    γ::Float64                           # RRA\n",
    "end\n",
    "\n",
    "model = GrowthModel(β = 0.95, δ = 0.05, α = 0.3, A = 1, γ = 2)\n",
    "\n",
    "function steady_state_k(model::GrowthModel)\n",
    "    @unpack β, α, A, δ = model\n",
    "    ((1/β-(1-δ))/(A*α))^(1/(α-1))\n",
    "end\n",
    "\n",
    "function f(model::GrowthModel, k)\n",
    "    @unpack α, A, δ = model\n",
    "    A*k^α\n",
    "end\n",
    "\n",
    "function f_prime(model::GrowthModel, k)\n",
    "    @unpack α, A, δ = model\n",
    "    A*α*k^(α-1)\n",
    "end\n",
    "\n",
    "u_crra_prime(c, γ) = c^-γ\n",
    "u_crra_prime_inv(u, γ) = u^(-1/γ)"
   ]
  },
  {
   "cell_type": "code",
   "execution_count": 22,
   "metadata": {
    "collapsed": false
   },
   "outputs": [
    {
     "data": {
      "text/plain": [
       "4.628988089138438"
      ]
     },
     "execution_count": 22,
     "metadata": {},
     "output_type": "execute_result"
    }
   ],
   "source": [
    "k_stst = steady_state_k(model)"
   ]
  },
  {
   "cell_type": "code",
   "execution_count": 14,
   "metadata": {
    "collapsed": false
   },
   "outputs": [
    {
     "name": "stderr",
     "output_type": "stream",
     "text": [
      "WARNING: Method definition euler_error(Main.GrowthModel, Any, Any) in module Main at In[4]:2 overwritten at In[14]:2.\n"
     ]
    },
    {
     "data": {
      "text/plain": [
       "euler_error (generic function with 1 method)"
      ]
     },
     "execution_count": 14,
     "metadata": {},
     "output_type": "execute_result"
    }
   ],
   "source": [
    "function Y(model::GrowthModel, k, a)\n",
    "    @unpack β, α, A, δ, γ = model\n",
    "    \n",
    "    u_crra_prime_inv(β*u_crra_prime(h(f(model,k) + (1-δ)*k - h(k)), γ) * \n",
    "            (f_prime(model, f(model,k) + (1-δ)*k - h(k)) + 1-δ), γ)\n",
    "end"
   ]
  },
  {
   "cell_type": "code",
   "execution_count": 24,
   "metadata": {
    "collapsed": false,
    "scrolled": true
   },
   "outputs": [
    {
     "data": {
      "text/plain": [
       "20-element Array{Float64,1}:\n",
       " 36.9755  \n",
       " 36.5267  \n",
       " 35.6401  \n",
       " 34.3375  \n",
       " 32.651   \n",
       " 30.6222  \n",
       " 28.301   \n",
       " 25.7446  \n",
       " 23.0158  \n",
       " 20.182   \n",
       " 17.3128  \n",
       " 14.479   \n",
       " 11.7502  \n",
       "  9.19378 \n",
       "  6.87257 \n",
       "  4.84376 \n",
       "  3.1573  \n",
       "  1.85472 \n",
       "  0.968101\n",
       "  0.519264"
      ]
     },
     "execution_count": 24,
     "metadata": {},
     "output_type": "execute_result"
    }
   ],
   "source": [
    "domain = [0.1*k_stst, 8*k_stst]\n",
    "nodes = chebyshev_nodes(20, domain)\n"
   ]
  },
  {
   "cell_type": "code",
   "execution_count": 26,
   "metadata": {
    "collapsed": false
   },
   "outputs": [
    {
     "name": "stderr",
     "output_type": "stream",
     "text": [
      "\u001b[1m\u001b[34mINFO: Precompiling module QuantEcon.\n",
      "\u001b[0m\u001b[1m\u001b[31mERROR: LoadError: LoadError: LoadError: Unable to load \n",
      "\n",
      "libhdf5 (/Users/Max/.julia/v0.5/Homebrew/deps/usr/lib/libhdf5.dylib)\n",
      "\n",
      "Please re-run Pkg.build(package), and restart Julia.\n",
      " in include_from_node1(::String) at ./loading.jl:488\n",
      " in include_from_node1(::String) at /Applications/Julia-0.5.app/Contents/Resources/julia/lib/julia/sys.dylib:?\n",
      " in include_from_node1(::String) at ./loading.jl:488\n",
      " in include_from_node1(::String) at /Applications/Julia-0.5.app/Contents/Resources/julia/lib/julia/sys.dylib:?\n",
      " in include_from_node1(::String) at ./loading.jl:488\n",
      " in include_from_node1(::String) at /Applications/Julia-0.5.app/Contents/Resources/julia/lib/julia/sys.dylib:?\n",
      " in macro expansion; at ./none:2 [inlined]\n",
      " in anonymous at ./<missing>:?\n",
      " in eval(::Module, ::Any) at ./boot.jl:234\n",
      " in eval(::Module, ::Any) at /Applications/Julia-0.5.app/Contents/Resources/julia/lib/julia/sys.dylib:?\n",
      " in process_options(::Base.JLOptions) at ./client.jl:242\n",
      " in _start() at ./client.jl:321\n",
      " in _start() at /Applications/Julia-0.5.app/Contents/Resources/julia/lib/julia/sys.dylib:?\n",
      "while loading /Users/Max/.julia/v0.5/HDF5/src/../deps/deps.jl, in expression starting on line 12\n",
      "while loading /Users/Max/.julia/v0.5/HDF5/src/plain.jl, in expression starting on line 21\n",
      "while loading /Users/Max/.julia/v0.5/HDF5/src/HDF5.jl, in expression starting on line 3\n",
      "\u001b[0m\u001b[1m\u001b[31mERROR: LoadError: Failed to precompile HDF5 to /Users/Max/.julia/lib/v0.5/HDF5.ji.\n",
      " in compilecache(::String) at ./loading.jl:593\n",
      " in require(::Symbol) at ./loading.jl:393\n",
      " in require(::Symbol) at /Applications/Julia-0.5.app/Contents/Resources/julia/lib/julia/sys.dylib:?\n",
      " in include_from_node1(::String) at ./loading.jl:488\n",
      " in include_from_node1(::String) at /Applications/Julia-0.5.app/Contents/Resources/julia/lib/julia/sys.dylib:?\n",
      " in macro expansion; at ./none:2 [inlined]\n",
      " in anonymous at ./<missing>:?\n",
      " in eval(::Module, ::Any) at ./boot.jl:234\n",
      " in eval(::Module, ::Any) at /Applications/Julia-0.5.app/Contents/Resources/julia/lib/julia/sys.dylib:?\n",
      " in process_options(::Base.JLOptions) at ./client.jl:242\n",
      " in _start() at ./client.jl:321\n",
      " in _start() at /Applications/Julia-0.5.app/Contents/Resources/julia/lib/julia/sys.dylib:?\n",
      "while loading /Users/Max/.julia/v0.5/JLD/src/JLD.jl, in expression starting on line 8\n",
      "\u001b[0m\u001b[1m\u001b[31mERROR: LoadError: LoadError: Failed to precompile JLD to /Users/Max/.julia/lib/v0.5/JLD.ji.\n",
      " in compilecache(::String) at ./loading.jl:593\n",
      " in require(::Symbol) at ./loading.jl:393\n",
      " in require(::Symbol) at /Applications/Julia-0.5.app/Contents/Resources/julia/lib/julia/sys.dylib:?\n",
      " in include_from_node1(::String) at ./loading.jl:488\n",
      " in include_from_node1(::String) at /Applications/Julia-0.5.app/Contents/Resources/julia/lib/julia/sys.dylib:?\n",
      " in include_from_node1(::String) at ./loading.jl:488\n",
      " in include_from_node1(::String) at /Applications/Julia-0.5.app/Contents/Resources/julia/lib/julia/sys.dylib:?\n",
      " in macro expansion; at ./none:2 [inlined]\n",
      " in anonymous at ./<missing>:?\n",
      " in eval(::Module, ::Any) at ./boot.jl:234\n",
      " in eval(::Module, ::Any) at /Applications/Julia-0.5.app/Contents/Resources/julia/lib/julia/sys.dylib:?\n",
      " in process_options(::Base.JLOptions) at ./client.jl:242\n",
      " in _start() at ./client.jl:321\n",
      " in _start() at /Applications/Julia-0.5.app/Contents/Resources/julia/lib/julia/sys.dylib:?\n",
      "while loading /Users/Max/.julia/v0.5/LightGraphs/src/persistence/jld.jl, in expression starting on line 1\n",
      "while loading /Users/Max/.julia/v0.5/LightGraphs/src/LightGraphs.jl, in expression starting on line 160\n",
      "\u001b[0m\u001b[1m\u001b[31mERROR: LoadError: LoadError: Failed to precompile LightGraphs to /Users/Max/.julia/lib/v0.5/LightGraphs.ji.\n",
      " in compilecache(::String) at ./loading.jl:593\n",
      " in require(::Symbol) at ./loading.jl:393\n",
      " in require(::Symbol) at /Applications/Julia-0.5.app/Contents/Resources/julia/lib/julia/sys.dylib:?\n",
      " in include_from_node1(::String) at ./loading.jl:488\n",
      " in include_from_node1(::String) at /Applications/Julia-0.5.app/Contents/Resources/julia/lib/julia/sys.dylib:?\n",
      " in include_from_node1(::String) at ./loading.jl:488\n",
      " in include_from_node1(::String) at /Applications/Julia-0.5.app/Contents/Resources/julia/lib/julia/sys.dylib:?\n",
      " in macro expansion; at ./none:2 [inlined]\n",
      " in anonymous at ./<missing>:?\n",
      " in eval(::Module, ::Any) at ./boot.jl:234\n",
      " in eval(::Module, ::Any) at /Applications/Julia-0.5.app/Contents/Resources/julia/lib/julia/sys.dylib:?\n",
      " in process_options(::Base.JLOptions) at ./client.jl:242\n",
      " in _start() at ./client.jl:321\n",
      " in _start() at /Applications/Julia-0.5.app/Contents/Resources/julia/lib/julia/sys.dylib:?\n",
      "while loading /Users/Max/.julia/v0.5/QuantEcon/src/markov/mc_tools.jl, in expression starting on line 13\n",
      "while loading /Users/Max/.julia/v0.5/QuantEcon/src/QuantEcon.jl, in expression starting on line 130\n",
      "\u001b[0m"
     ]
    },
    {
     "ename": "LoadError",
     "evalue": "Failed to precompile QuantEcon to /Users/Max/.julia/lib/v0.5/QuantEcon.ji.",
     "output_type": "error",
     "traceback": [
      "Failed to precompile QuantEcon to /Users/Max/.julia/lib/v0.5/QuantEcon.ji.",
      "",
      " in compilecache(::String) at ./loading.jl:593",
      " in require(::Symbol) at ./loading.jl:422",
      " in require(::Symbol) at /Applications/Julia-0.5.app/Contents/Resources/julia/lib/julia/sys.dylib:?"
     ]
    }
   ],
   "source": [
    "using QuantEcon"
   ]
  },
  {
   "cell_type": "code",
   "execution_count": 25,
   "metadata": {
    "collapsed": false
   },
   "outputs": [
    {
     "ename": "LoadError",
     "evalue": "UndefVarError: Basis not defined",
     "output_type": "error",
     "traceback": [
      "UndefVarError: Basis not defined",
      ""
     ]
    }
   ],
   "source": [
    "\n",
    "ygrid0 = linspace(-4, 4, 10)\n",
    "agrid0 = linspace(0.0.^0.4, 100.0.^0.4, 25).^(1/0.4)\n",
    "\n",
    "# method one, using the Basis constructor multiple times\n",
    "basis = Basis(SplineParams(agrid0, 0, 3),  # cubic spline\n",
    "              SplineParams(ygrid0, 0, 1))  # linear"
   ]
  },
  {
   "cell_type": "code",
   "execution_count": null,
   "metadata": {
    "collapsed": true
   },
   "outputs": [],
   "source": []
  }
 ],
 "metadata": {
  "anaconda-cloud": {},
  "kernelspec": {
   "display_name": "Julia 0.5.0",
   "language": "julia",
   "name": "julia-0.5"
  },
  "language_info": {
   "file_extension": ".jl",
   "mimetype": "application/julia",
   "name": "julia",
   "version": "0.5.1"
  }
 },
 "nbformat": 4,
 "nbformat_minor": 0
}
