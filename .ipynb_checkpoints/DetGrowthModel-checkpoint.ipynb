{
 "cells": [
  {
   "cell_type": "markdown",
   "metadata": {},
   "source": [
    "We want to solve:\n",
    "$$0=h(k)-(u')^{-1}\\left( \\beta u'\\left( h\\left((f(k) +(1- \\delta)k- h(k)\\right) \\right) f'\\left(f(k) +(1- \\delta)k - h(k) \\right) \\right)$$\n",
    "where $c=h(k)$ using projection on Chebychev polynomials."
   ]
  },
  {
   "cell_type": "code",
   "execution_count": 20,
   "metadata": {
    "collapsed": false
   },
   "outputs": [],
   "source": [
    "using Parameters\n",
    "using ChebyshevApprox"
   ]
  },
  {
   "cell_type": "code",
   "execution_count": 2,
   "metadata": {
    "collapsed": false
   },
   "outputs": [
    {
     "data": {
      "text/plain": [
       "u_crra_prime_inv (generic function with 1 method)"
      ]
     },
     "execution_count": 2,
     "metadata": {},
     "output_type": "execute_result"
    }
   ],
   "source": [
    "@with_kw immutable GrowthModel\n",
    "    β::Float64                           # discount factor\n",
    "    δ::Float64                           # depreciation\n",
    "    α::Float64                           # capital share\n",
    "    A::Float64                           # productivity\n",
    "    γ::Float64                           # RRA\n",
    "end\n",
    "\n",
    "model = GrowthModel(β = 0.95, δ = 0.05, α = 0.3, A = 1, γ = 2)\n",
    "\n",
    "function steady_state_k(model::GrowthModel)\n",
    "    @unpack β, α, A, δ = model\n",
    "    ((1/β-(1-δ))/(A*α))^(1/(α-1))\n",
    "end\n",
    "\n",
    "function f(model::GrowthModel, k)\n",
    "    @unpack α, A, δ = model\n",
    "    A*k^α\n",
    "end\n",
    "\n",
    "function f_prime(model::GrowthModel, k)\n",
    "    @unpack α, A, δ = model\n",
    "    A*α*k^(α-1)\n",
    "end\n",
    "\n",
    "u_crra_prime(c, γ) = c^-γ\n",
    "u_crra_prime_inv(u, γ) = u^(-1/γ)"
   ]
  },
  {
   "cell_type": "code",
   "execution_count": 22,
   "metadata": {
    "collapsed": false
   },
   "outputs": [
    {
     "data": {
      "text/plain": [
       "4.628988089138438"
      ]
     },
     "execution_count": 22,
     "metadata": {},
     "output_type": "execute_result"
    }
   ],
   "source": [
    "k_stst = steady_state_k(model)"
   ]
  },
  {
   "cell_type": "code",
   "execution_count": 14,
   "metadata": {
    "collapsed": false
   },
   "outputs": [
    {
     "name": "stderr",
     "output_type": "stream",
     "text": [
      "WARNING: Method definition euler_error(Main.GrowthModel, Any, Any) in module Main at In[4]:2 overwritten at In[14]:2.\n"
     ]
    },
    {
     "data": {
      "text/plain": [
       "euler_error (generic function with 1 method)"
      ]
     },
     "execution_count": 14,
     "metadata": {},
     "output_type": "execute_result"
    }
   ],
   "source": [
    "function Y(model::GrowthModel, k, a)\n",
    "    @unpack β, α, A, δ, γ = model\n",
    "    \n",
    "    u_crra_prime_inv(β*u_crra_prime(h(f(model,k) + (1-δ)*k - h(k)), γ) * \n",
    "            (f_prime(model, f(model,k) + (1-δ)*k - h(k)) + 1-δ), γ)\n",
    "end"
   ]
  },
  {
   "cell_type": "code",
   "execution_count": 23,
   "metadata": {
    "collapsed": false
   },
   "outputs": [
    {
     "data": {
      "text/plain": [
       "20-element Array{Float64,1}:\n",
       " 36.9755  \n",
       " 36.5267  \n",
       " 35.6401  \n",
       " 34.3375  \n",
       " 32.651   \n",
       " 30.6222  \n",
       " 28.301   \n",
       " 25.7446  \n",
       " 23.0158  \n",
       " 20.182   \n",
       " 17.3128  \n",
       " 14.479   \n",
       " 11.7502  \n",
       "  9.19378 \n",
       "  6.87257 \n",
       "  4.84376 \n",
       "  3.1573  \n",
       "  1.85472 \n",
       "  0.968101\n",
       "  0.519264"
      ]
     },
     "execution_count": 23,
     "metadata": {},
     "output_type": "execute_result"
    }
   ],
   "source": [
    "domain = [0.1*k_stst, 8*k_stst]\n",
    "nodes = chebyshev_nodes(20, domain)\n",
    "chebyshev_weights(euler_error, nodes, 3, domain)"
   ]
  },
  {
   "cell_type": "code",
   "execution_count": null,
   "metadata": {
    "collapsed": true
   },
   "outputs": [],
   "source": []
  }
 ],
 "metadata": {
  "anaconda-cloud": {},
  "kernelspec": {
   "display_name": "Julia 0.5.0",
   "language": "julia",
   "name": "julia-0.5"
  },
  "language_info": {
   "file_extension": ".jl",
   "mimetype": "application/julia",
   "name": "julia",
   "version": "0.5.1"
  }
 },
 "nbformat": 4,
 "nbformat_minor": 0
}
